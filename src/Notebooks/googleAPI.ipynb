{
 "cells": [
  {
   "cell_type": "code",
   "execution_count": 2,
   "metadata": {},
   "outputs": [],
   "source": [
    "import pandas as pd"
   ]
  },
  {
   "cell_type": "code",
   "execution_count": 5,
   "metadata": {},
   "outputs": [],
   "source": [
    "zone_data = pd.read_csv(\"../../data/zone_coordinates.csv\", index_col = False)"
   ]
  },
  {
   "cell_type": "code",
   "execution_count": 6,
   "metadata": {},
   "outputs": [
    {
     "data": {
      "text/html": [
       "<div>\n",
       "<style scoped>\n",
       "    .dataframe tbody tr th:only-of-type {\n",
       "        vertical-align: middle;\n",
       "    }\n",
       "\n",
       "    .dataframe tbody tr th {\n",
       "        vertical-align: top;\n",
       "    }\n",
       "\n",
       "    .dataframe thead th {\n",
       "        text-align: right;\n",
       "    }\n",
       "</style>\n",
       "<table border=\"1\" class=\"dataframe\">\n",
       "  <thead>\n",
       "    <tr style=\"text-align: right;\">\n",
       "      <th></th>\n",
       "      <th>Unnamed: 0</th>\n",
       "      <th>Zone</th>\n",
       "      <th>Lower Left</th>\n",
       "      <th>Upper Right</th>\n",
       "      <th>Center</th>\n",
       "    </tr>\n",
       "  </thead>\n",
       "  <tbody>\n",
       "    <tr>\n",
       "      <th>0</th>\n",
       "      <td>0</td>\n",
       "      <td>1</td>\n",
       "      <td>[10.79377655, 59.96421346153846]</td>\n",
       "      <td>[10.802510575000001, 59.96875023076923]</td>\n",
       "      <td>[10.798143562500002, 59.96648184615385]</td>\n",
       "    </tr>\n",
       "    <tr>\n",
       "      <th>1</th>\n",
       "      <td>1</td>\n",
       "      <td>2</td>\n",
       "      <td>[10.785042525, 59.96421346153846]</td>\n",
       "      <td>[10.79377655, 59.96875023076923]</td>\n",
       "      <td>[10.7894095375, 59.96648184615385]</td>\n",
       "    </tr>\n",
       "    <tr>\n",
       "      <th>2</th>\n",
       "      <td>2</td>\n",
       "      <td>3</td>\n",
       "      <td>[10.776308499999999, 59.96421346153846]</td>\n",
       "      <td>[10.785042525, 59.96875023076923]</td>\n",
       "      <td>[10.7806755125, 59.96648184615385]</td>\n",
       "    </tr>\n",
       "    <tr>\n",
       "      <th>3</th>\n",
       "      <td>3</td>\n",
       "      <td>4</td>\n",
       "      <td>[10.767574475, 59.96421346153846]</td>\n",
       "      <td>[10.7763085, 59.96875023076923]</td>\n",
       "      <td>[10.771941487500001, 59.96648184615385]</td>\n",
       "    </tr>\n",
       "    <tr>\n",
       "      <th>4</th>\n",
       "      <td>4</td>\n",
       "      <td>5</td>\n",
       "      <td>[10.75884045, 59.96421346153846]</td>\n",
       "      <td>[10.767574475, 59.96875023076923]</td>\n",
       "      <td>[10.763207462499999, 59.96648184615385]</td>\n",
       "    </tr>\n",
       "  </tbody>\n",
       "</table>\n",
       "</div>"
      ],
      "text/plain": [
       "   Unnamed: 0  Zone                               Lower Left  \\\n",
       "0           0     1         [10.79377655, 59.96421346153846]   \n",
       "1           1     2        [10.785042525, 59.96421346153846]   \n",
       "2           2     3  [10.776308499999999, 59.96421346153846]   \n",
       "3           3     4        [10.767574475, 59.96421346153846]   \n",
       "4           4     5         [10.75884045, 59.96421346153846]   \n",
       "\n",
       "                               Upper Right  \\\n",
       "0  [10.802510575000001, 59.96875023076923]   \n",
       "1         [10.79377655, 59.96875023076923]   \n",
       "2        [10.785042525, 59.96875023076923]   \n",
       "3          [10.7763085, 59.96875023076923]   \n",
       "4        [10.767574475, 59.96875023076923]   \n",
       "\n",
       "                                    Center  \n",
       "0  [10.798143562500002, 59.96648184615385]  \n",
       "1       [10.7894095375, 59.96648184615385]  \n",
       "2       [10.7806755125, 59.96648184615385]  \n",
       "3  [10.771941487500001, 59.96648184615385]  \n",
       "4  [10.763207462499999, 59.96648184615385]  "
      ]
     },
     "execution_count": 6,
     "metadata": {},
     "output_type": "execute_result"
    }
   ],
   "source": [
    "zone_data.head()"
   ]
  },
  {
   "cell_type": "code",
   "execution_count": null,
   "metadata": {},
   "outputs": [],
   "source": []
  }
 ],
 "metadata": {
  "kernelspec": {
   "display_name": "Python 3",
   "language": "python",
   "name": "python3"
  },
  "language_info": {
   "codemirror_mode": {
    "name": "ipython",
    "version": 3
   },
   "file_extension": ".py",
   "mimetype": "text/x-python",
   "name": "python",
   "nbconvert_exporter": "python",
   "pygments_lexer": "ipython3",
   "version": "3.8.5"
  }
 },
 "nbformat": 4,
 "nbformat_minor": 4
}
